{
 "cells": [
  {
   "cell_type": "markdown",
   "metadata": {},
   "source": [
    "# Lab 3\n",
    "# Parametric classification\n",
    "# ---------------------------------------------------"
   ]
  },
  {
   "cell_type": "markdown",
   "metadata": {},
   "source": [
    "<h2>Table of contents </h2>\n",
    "\n",
    "<div class=\"alert alert-block alert-info\" style=\"margin-top: 20px\">\n",
    "<ol>\n",
    "    <li> Introduction</li>\n",
    "    <li> Simple logistic regression  </li>\n",
    "    <li> Multivariable logistic regression </li>\n",
    "    <li> Logistic regression with regularization </li>\n",
    "    <li> Comparison of the results obtained with the different models </li>\n",
    "</ol>\n",
    "\n",
    "</div>\n",
    "\n",
    "<hr>\n"
   ]
  },
  {
   "cell_type": "markdown",
   "metadata": {},
   "source": [
    "## 1. Introduction\n",
    "\n",
    "Assume that you want to design a parametric classification model on a set of observation, where each observation is described in terms of a set of variables. Without knowing anything else about the data set, provide a reasoned justification:\n",
    "\n",
    "(a) Explain in your own words what is the main difference between supervised learning methods and unsupervised learning methods.  Give an example of application of each type of method. Briefly describe the input and output variables you would consider in each example.\n",
    "\n",
    "In an unsupervised method, you don't consider the labels in order to produce an output, only the inputs. You don't have test and training sets in unsupervised. You learn the \"structure\" of the data by grouping examples into consistent groups with similar characteristics.\n",
    "\n",
    "Supervised learning aims to learn the relationship between feature vectors and the labels associated with each vector. There are two types of supervised learning: • Regression: The set of labels is numberable, it is continuous • Classification: The label set is not numeric, it is discrete\n",
    "\n",
    "b) Explain in your own words the main difference between a linear and a non-linear model.\n",
    "\n",
    "A linear model can be described by a linear equation (a polynome). It is less complex than a non-linear model.\n",
    "\n",
    "c) Explain the concept of overfitting and generalization. If you wish, you can support your answer with an outline or drawing. Explain in your own words how you could get the designed model to generalize well.\n",
    "\n",
    "Overfitting means that your model predicts too many times one class compared to what it should.\n",
    "\n",
    "Generalizations means that your model can well predicts the class of new data according to its training.\n",
    "\n"
   ]
  },
  {
   "cell_type": "markdown",
   "metadata": {},
   "source": [
    "For the development of this first practice we will analyze the \"Pima Indian Diabetes\" database already preprocessed, where the rows of the file correspond to the observations and the columns to the variables.\n",
    "\n",
    "For this practice, the data will be divided into two subsets: training and test. In addition, the validation scheme called k-fold cross-validation will be considered."
   ]
  },
  {
   "cell_type": "code",
   "execution_count": 98,
   "metadata": {},
   "outputs": [],
   "source": [
    "from sklearn.model_selection import cross_val_score\n",
    "from sklearn import model_selection   \n",
    "from sklearn.model_selection import KFold, cross_val_score, train_test_split\n",
    "from sklearn import metrics\n",
    "import pandas as pd\n",
    "import numpy as np\n",
    "import seaborn as sns\n",
    "import matplotlib\n",
    "from matplotlib import pyplot as plt"
   ]
  },
  {
   "cell_type": "code",
   "execution_count": 99,
   "metadata": {},
   "outputs": [],
   "source": [
    "# Load the dataset (already preprocessed)\n",
    "\n",
    "\n",
    "\n",
    "# Define the input and the output\n",
    "\n",
    "\n"
   ]
  },
  {
   "cell_type": "code",
   "execution_count": 100,
   "metadata": {},
   "outputs": [],
   "source": [
    "# Show the first rows of the input"
   ]
  },
  {
   "cell_type": "code",
   "execution_count": 101,
   "metadata": {},
   "outputs": [],
   "source": [
    "# Show the first rows of the output"
   ]
  },
  {
   "cell_type": "code",
   "execution_count": 102,
   "metadata": {},
   "outputs": [],
   "source": [
    "# We define the training set (70% of the observations) and test set (30% of the observations).\n",
    "# We use a fixed value of Random state to obtain always the same results.\n",
    "# For more details, see the following link: https://numpy.org/doc/1.16/reference/generated/numpy.random.RandomState.html\n"
   ]
  },
  {
   "cell_type": "code",
   "execution_count": 103,
   "metadata": {},
   "outputs": [],
   "source": [
    "# Show the first rows of the Xtrain"
   ]
  },
  {
   "cell_type": "code",
   "execution_count": 104,
   "metadata": {},
   "outputs": [],
   "source": [
    "X_train = pd.read_csv(\"znorm_scaled_x_train.csv\") # already normalized\n",
    "X_test = pd.read_csv(\"znorm_scaled_x_test.csv\") # already normalized\n",
    "Y_train = pd.read_csv(\"Y_train.csv\")\n",
    "Y_test = pd.read_csv(\"Y_test.csv\")\n"
   ]
  },
  {
   "cell_type": "code",
   "execution_count": 105,
   "metadata": {},
   "outputs": [
    {
     "data": {
      "text/html": [
       "<div>\n",
       "<style scoped>\n",
       "    .dataframe tbody tr th:only-of-type {\n",
       "        vertical-align: middle;\n",
       "    }\n",
       "\n",
       "    .dataframe tbody tr th {\n",
       "        vertical-align: top;\n",
       "    }\n",
       "\n",
       "    .dataframe thead th {\n",
       "        text-align: right;\n",
       "    }\n",
       "</style>\n",
       "<table border=\"1\" class=\"dataframe\">\n",
       "  <thead>\n",
       "    <tr style=\"text-align: right;\">\n",
       "      <th></th>\n",
       "      <th>Outcome</th>\n",
       "    </tr>\n",
       "  </thead>\n",
       "  <tbody>\n",
       "    <tr>\n",
       "      <th>0</th>\n",
       "      <td>1</td>\n",
       "    </tr>\n",
       "    <tr>\n",
       "      <th>1</th>\n",
       "      <td>1</td>\n",
       "    </tr>\n",
       "    <tr>\n",
       "      <th>2</th>\n",
       "      <td>1</td>\n",
       "    </tr>\n",
       "    <tr>\n",
       "      <th>3</th>\n",
       "      <td>0</td>\n",
       "    </tr>\n",
       "    <tr>\n",
       "      <th>4</th>\n",
       "      <td>0</td>\n",
       "    </tr>\n",
       "  </tbody>\n",
       "</table>\n",
       "</div>"
      ],
      "text/plain": [
       "   Outcome\n",
       "0        1\n",
       "1        1\n",
       "2        1\n",
       "3        0\n",
       "4        0"
      ]
     },
     "execution_count": 105,
     "metadata": {},
     "output_type": "execute_result"
    }
   ],
   "source": [
    "Y_test.head()"
   ]
  },
  {
   "cell_type": "markdown",
   "metadata": {},
   "source": [
    "#### Define the figure of merit, for example, accuracy, sensitivity, specificity, ROC-AUC"
   ]
  },
  {
   "cell_type": "code",
   "execution_count": 106,
   "metadata": {},
   "outputs": [],
   "source": [
    "# Define several figures of merit. Remember that you should also show the confusion matrix\n",
    "accuracies=[]\n",
    "sensitivities=[]\n",
    "specificities=[]\n",
    "aucs=[]"
   ]
  },
  {
   "cell_type": "markdown",
   "metadata": {},
   "source": [
    "## 2.  Logistic regression\n",
    "\n",
    "\n",
    "(a) Design a logistic regression model using the training and test subsets described above. Clearly indicate what the desired output is.\n",
    "\n",
    "b) Comment on the confusion matrix as well as the results obtained in terms of at least two figure of merit.\n",
    "\n",
    "c) Indicate if the figure of merit obtained in the test set change after normalizing the variables.\n",
    "\n",
    "d) Justify which features are more relevant in this case.\n"
   ]
  },
  {
   "cell_type": "code",
   "execution_count": 107,
   "metadata": {},
   "outputs": [
    {
     "name": "stdout",
     "output_type": "stream",
     "text": [
      "[-0.02215202]\n",
      "[[0.51417642]]\n",
      "Y_pred: [1 0 0 0 0 0 1 0 0 0 0 1 0 0 0 0 0 0 0 1 0 0 0 0 0 0 0 1 0 0 0 0 1 0 0 0 0\n",
      " 0 0 0 1 0 1 0 0 1 0 0 1 1 0 0 1 1 1 1 0 0 1 0 0 0 0 1 1 0 0 0 0 1 0 1 1 1\n",
      " 1 1 1 0 1 0 0 0 0 0 1 1 0 0 1 0 1 1 1 1 0 1 0 1 0 1 1 0 0 0 1 0 1 0 0 0 0\n",
      " 0 0 0 0 1 0 0 1 0 1 0 1 0 1 0 0 0 0 0 1 1 1 1 1 0 0 0 0 0 0 0 0 1 0 0 1 0\n",
      " 0 0 1 1 0 0 0 0 0 0 0 0 0 0 1 1 0 0 1 1 0 0 0 1 1 1 0 0 0 0 0 0 1 1 0 1 0\n",
      " 0 1 1 0 1 0 0 0 0 0 1 1 1 1 1 0 1 0 0 1 1 0 0 1 1 1 1 0 0 0 1 0 0 0 0 1 0\n",
      " 1 0 0 0 0 1 0 0 0 1 1 0 0 1 1 1 0 1 0 0 1 0 1 0 0 0 0 1 1 0 1 0 0 1 0 1 0\n",
      " 0 1 0 0 0 0 1 1 1 1 0 0 1 1 0 0 1 1 0 0 1 0 0 0 0 0 1] \n",
      "y_prob_pred: [[0.45500682 0.54499318]\n",
      " [0.63726743 0.36273257]\n",
      " [0.57065632 0.42934368]\n",
      " [0.61550813 0.38449187]\n",
      " [0.64794596 0.35205404]\n",
      " [0.64794596 0.35205404]\n",
      " [0.30333915 0.69666085]\n",
      " [0.62645174 0.37354826]\n",
      " [0.53619466 0.46380534]\n",
      " [0.51300563 0.48699437]\n",
      " [0.59327662 0.40672338]\n",
      " [0.40939742 0.59060258]\n",
      " [0.59327662 0.40672338]\n",
      " [0.55922821 0.44077179]\n",
      " [0.58200959 0.41799041]\n",
      " [0.55922821 0.44077179]\n",
      " [0.63726743 0.36273257]\n",
      " [0.52461341 0.47538659]\n",
      " [0.52461341 0.47538659]\n",
      " [0.23922367 0.76077633]\n",
      " [0.51300563 0.48699437]\n",
      " [0.54773699 0.45226301]\n",
      " [0.61550813 0.38449187]\n",
      " [0.60444635 0.39555365]\n",
      " [0.58200959 0.41799041]\n",
      " [0.61550813 0.38449187]\n",
      " [0.51300563 0.48699437]\n",
      " [0.420686   0.579314  ]\n",
      " [0.64794596 0.35205404]\n",
      " [0.51300563 0.48699437]\n",
      " [0.62645174 0.37354826]\n",
      " [0.61550813 0.38449187]\n",
      " [0.34401535 0.65598465]\n",
      " [0.59327662 0.40672338]\n",
      " [0.61550813 0.38449187]\n",
      " [0.53619466 0.46380534]\n",
      " [0.62645174 0.37354826]\n",
      " [0.60444635 0.39555365]\n",
      " [0.64794596 0.35205404]\n",
      " [0.57065632 0.42934368]\n",
      " [0.36529547 0.63470453]\n",
      " [0.55922821 0.44077179]\n",
      " [0.24778861 0.75221139]\n",
      " [0.63726743 0.36273257]\n",
      " [0.58200959 0.41799041]\n",
      " [0.18506012 0.81493988]\n",
      " [0.57065632 0.42934368]\n",
      " [0.55922821 0.44077179]\n",
      " [0.23086393 0.76913607]\n",
      " [0.40939742 0.59060258]\n",
      " [0.55922821 0.44077179]\n",
      " [0.61550813 0.38449187]\n",
      " [0.30333915 0.69666085]\n",
      " [0.44350234 0.55649766]\n",
      " [0.420686   0.579314  ]\n",
      " [0.43205814 0.56794186]\n",
      " [0.57065632 0.42934368]\n",
      " [0.54773699 0.45226301]\n",
      " [0.37614247 0.62385753]\n",
      " [0.64794596 0.35205404]\n",
      " [0.53619466 0.46380534]\n",
      " [0.55922821 0.44077179]\n",
      " [0.61550813 0.38449187]\n",
      " [0.48976049 0.51023951]\n",
      " [0.35458348 0.64541652]\n",
      " [0.64794596 0.35205404]\n",
      " [0.55922821 0.44077179]\n",
      " [0.61550813 0.38449187]\n",
      " [0.61550813 0.38449187]\n",
      " [0.37614247 0.62385753]\n",
      " [0.62645174 0.37354826]\n",
      " [0.48976049 0.51023951]\n",
      " [0.43205814 0.56794186]\n",
      " [0.29360355 0.70639645]\n",
      " [0.47814823 0.52185177]\n",
      " [0.29360355 0.70639645]\n",
      " [0.30333915 0.69666085]\n",
      " [0.57065632 0.42934368]\n",
      " [0.18506012 0.81493988]\n",
      " [0.57065632 0.42934368]\n",
      " [0.60444635 0.39555365]\n",
      " [0.53619466 0.46380534]\n",
      " [0.60444635 0.39555365]\n",
      " [0.64794596 0.35205404]\n",
      " [0.35458348 0.64541652]\n",
      " [0.48976049 0.51023951]\n",
      " [0.61550813 0.38449187]\n",
      " [0.54773699 0.45226301]\n",
      " [0.40939742 0.59060258]\n",
      " [0.55922821 0.44077179]\n",
      " [0.26552571 0.73447429]\n",
      " [0.38711512 0.61288488]\n",
      " [0.32334336 0.67665664]\n",
      " [0.30333915 0.69666085]\n",
      " [0.63726743 0.36273257]\n",
      " [0.29360355 0.70639645]\n",
      " [0.57065632 0.42934368]\n",
      " [0.46655954 0.53344046]\n",
      " [0.54773699 0.45226301]\n",
      " [0.29360355 0.70639645]\n",
      " [0.24778861 0.75221139]\n",
      " [0.61550813 0.38449187]\n",
      " [0.58200959 0.41799041]\n",
      " [0.61550813 0.38449187]\n",
      " [0.36529547 0.63470453]\n",
      " [0.63726743 0.36273257]\n",
      " [0.24778861 0.75221139]\n",
      " [0.63726743 0.36273257]\n",
      " [0.62645174 0.37354826]\n",
      " [0.58200959 0.41799041]\n",
      " [0.59327662 0.40672338]\n",
      " [0.53619466 0.46380534]\n",
      " [0.60444635 0.39555365]\n",
      " [0.55922821 0.44077179]\n",
      " [0.53619466 0.46380534]\n",
      " [0.48976049 0.51023951]\n",
      " [0.57065632 0.42934368]\n",
      " [0.51300563 0.48699437]\n",
      " [0.37614247 0.62385753]\n",
      " [0.57065632 0.42934368]\n",
      " [0.39820354 0.60179646]\n",
      " [0.54773699 0.45226301]\n",
      " [0.37614247 0.62385753]\n",
      " [0.54773699 0.45226301]\n",
      " [0.46655954 0.53344046]\n",
      " [0.58200959 0.41799041]\n",
      " [0.58200959 0.41799041]\n",
      " [0.53619466 0.46380534]\n",
      " [0.59327662 0.40672338]\n",
      " [0.63726743 0.36273257]\n",
      " [0.40939742 0.59060258]\n",
      " [0.46655954 0.53344046]\n",
      " [0.18506012 0.81493988]\n",
      " [0.31325442 0.68674558]\n",
      " [0.420686   0.579314  ]\n",
      " [0.54773699 0.45226301]\n",
      " [0.51300563 0.48699437]\n",
      " [0.57065632 0.42934368]\n",
      " [0.57065632 0.42934368]\n",
      " [0.64794596 0.35205404]\n",
      " [0.64794596 0.35205404]\n",
      " [0.52461341 0.47538659]\n",
      " [0.52461341 0.47538659]\n",
      " [0.45500682 0.54499318]\n",
      " [0.64794596 0.35205404]\n",
      " [0.63726743 0.36273257]\n",
      " [0.46655954 0.53344046]\n",
      " [0.63726743 0.36273257]\n",
      " [0.63726743 0.36273257]\n",
      " [0.58200959 0.41799041]\n",
      " [0.43205814 0.56794186]\n",
      " [0.420686   0.579314  ]\n",
      " [0.59327662 0.40672338]\n",
      " [0.50138381 0.49861619]\n",
      " [0.61550813 0.38449187]\n",
      " [0.63726743 0.36273257]\n",
      " [0.54773699 0.45226301]\n",
      " [0.53619466 0.46380534]\n",
      " [0.52461341 0.47538659]\n",
      " [0.50138381 0.49861619]\n",
      " [0.64794596 0.35205404]\n",
      " [0.57065632 0.42934368]\n",
      " [0.47814823 0.52185177]\n",
      " [0.39820354 0.60179646]\n",
      " [0.50138381 0.49861619]\n",
      " [0.62645174 0.37354826]\n",
      " [0.23086393 0.76913607]\n",
      " [0.420686   0.579314  ]\n",
      " [0.50138381 0.49861619]\n",
      " [0.54773699 0.45226301]\n",
      " [0.62645174 0.37354826]\n",
      " [0.46655954 0.53344046]\n",
      " [0.19217569 0.80782431]\n",
      " [0.31325442 0.68674558]\n",
      " [0.60444635 0.39555365]\n",
      " [0.55922821 0.44077179]\n",
      " [0.55922821 0.44077179]\n",
      " [0.54773699 0.45226301]\n",
      " [0.60444635 0.39555365]\n",
      " [0.64794596 0.35205404]\n",
      " [0.46655954 0.53344046]\n",
      " [0.48976049 0.51023951]\n",
      " [0.62645174 0.37354826]\n",
      " [0.29360355 0.70639645]\n",
      " [0.60444635 0.39555365]\n",
      " [0.59327662 0.40672338]\n",
      " [0.31325442 0.68674558]\n",
      " [0.45500682 0.54499318]\n",
      " [0.64794596 0.35205404]\n",
      " [0.420686   0.579314  ]\n",
      " [0.57065632 0.42934368]\n",
      " [0.59327662 0.40672338]\n",
      " [0.62645174 0.37354826]\n",
      " [0.62645174 0.37354826]\n",
      " [0.61550813 0.38449187]\n",
      " [0.45500682 0.54499318]\n",
      " [0.45500682 0.54499318]\n",
      " [0.43205814 0.56794186]\n",
      " [0.46655954 0.53344046]\n",
      " [0.43205814 0.56794186]\n",
      " [0.52461341 0.47538659]\n",
      " [0.47814823 0.52185177]\n",
      " [0.64794596 0.35205404]\n",
      " [0.62645174 0.37354826]\n",
      " [0.47814823 0.52185177]\n",
      " [0.23086393 0.76913607]\n",
      " [0.57065632 0.42934368]\n",
      " [0.63726743 0.36273257]\n",
      " [0.33359939 0.66640061]\n",
      " [0.40939742 0.59060258]\n",
      " [0.35458348 0.64541652]\n",
      " [0.28405301 0.71594699]\n",
      " [0.60444635 0.39555365]\n",
      " [0.55922821 0.44077179]\n",
      " [0.53619466 0.46380534]\n",
      " [0.19949789 0.80050211]\n",
      " [0.63726743 0.36273257]\n",
      " [0.61550813 0.38449187]\n",
      " [0.55922821 0.44077179]\n",
      " [0.64794596 0.35205404]\n",
      " [0.35458348 0.64541652]\n",
      " [0.63726743 0.36273257]\n",
      " [0.39820354 0.60179646]\n",
      " [0.57065632 0.42934368]\n",
      " [0.59327662 0.40672338]\n",
      " [0.55922821 0.44077179]\n",
      " [0.62645174 0.37354826]\n",
      " [0.46655954 0.53344046]\n",
      " [0.59327662 0.40672338]\n",
      " [0.54773699 0.45226301]\n",
      " [0.64794596 0.35205404]\n",
      " [0.420686   0.579314  ]\n",
      " [0.40939742 0.59060258]\n",
      " [0.62645174 0.37354826]\n",
      " [0.53619466 0.46380534]\n",
      " [0.39820354 0.60179646]\n",
      " [0.44350234 0.55649766]\n",
      " [0.45500682 0.54499318]\n",
      " [0.54773699 0.45226301]\n",
      " [0.48976049 0.51023951]\n",
      " [0.64794596 0.35205404]\n",
      " [0.63726743 0.36273257]\n",
      " [0.47814823 0.52185177]\n",
      " [0.59327662 0.40672338]\n",
      " [0.34401535 0.65598465]\n",
      " [0.53619466 0.46380534]\n",
      " [0.62645174 0.37354826]\n",
      " [0.59327662 0.40672338]\n",
      " [0.64794596 0.35205404]\n",
      " [0.40939742 0.59060258]\n",
      " [0.28405301 0.71594699]\n",
      " [0.54773699 0.45226301]\n",
      " [0.43205814 0.56794186]\n",
      " [0.63726743 0.36273257]\n",
      " [0.57065632 0.42934368]\n",
      " [0.420686   0.579314  ]\n",
      " [0.59327662 0.40672338]\n",
      " [0.47814823 0.52185177]\n",
      " [0.64794596 0.35205404]\n",
      " [0.61550813 0.38449187]\n",
      " [0.30333915 0.69666085]\n",
      " [0.59327662 0.40672338]\n",
      " [0.64794596 0.35205404]\n",
      " [0.52461341 0.47538659]\n",
      " [0.53619466 0.46380534]\n",
      " [0.43205814 0.56794186]\n",
      " [0.25655679 0.74344321]\n",
      " [0.22271079 0.77728921]\n",
      " [0.420686   0.579314  ]\n",
      " [0.64794596 0.35205404]\n",
      " [0.61550813 0.38449187]\n",
      " [0.45500682 0.54499318]\n",
      " [0.25655679 0.74344321]\n",
      " [0.53619466 0.46380534]\n",
      " [0.55922821 0.44077179]\n",
      " [0.37614247 0.62385753]\n",
      " [0.43205814 0.56794186]\n",
      " [0.58200959 0.41799041]\n",
      " [0.58200959 0.41799041]\n",
      " [0.31325442 0.68674558]\n",
      " [0.63726743 0.36273257]\n",
      " [0.52461341 0.47538659]\n",
      " [0.50138381 0.49861619]\n",
      " [0.61550813 0.38449187]\n",
      " [0.64794596 0.35205404]\n",
      " [0.36529547 0.63470453]] \n"
     ]
    },
    {
     "name": "stderr",
     "output_type": "stream",
     "text": [
      "/home/alumnos/tachennf/.local/lib/python3.10/site-packages/sklearn/utils/validation.py:1183: DataConversionWarning: A column-vector y was passed when a 1d array was expected. Please change the shape of y to (n_samples, ), for example using ravel().\n",
      "  y = column_or_1d(y, warn=True)\n"
     ]
    }
   ],
   "source": [
    "from sklearn import model_selection   \n",
    "from sklearn import metrics\n",
    "from sklearn.linear_model import LogisticRegression\n",
    "\n",
    "\n",
    "# Logistic regression\n",
    "regressor = LogisticRegression()\n",
    "\n",
    "# Train the model using X_train using only the feature 'Age' as the input\n",
    "regressor = regressor.fit(np.array(X_train['Age']).reshape(-1, 1), Y_train)\n",
    "\n",
    "# Show the intercept\n",
    "print(regressor.intercept_)\n",
    "\n",
    "# Show the coefficients\n",
    "print(regressor.coef_)\n",
    "\n",
    "\n",
    "# Predic the values using the test set. Obtain both the hard and the soft output\n",
    "y_pred = regressor.predict(np.array(X_test['Age']).reshape(-1, 1))\n",
    "y_prob_pred = regressor.predict_proba(np.array(X_test['Age']).reshape(-1, 1))\n",
    "\n",
    "print(f'Y_pred: {y_pred} ')\n",
    "print(f'y_prob_pred: {y_prob_pred} ')\n",
    "\n"
   ]
  },
  {
   "cell_type": "code",
   "execution_count": 108,
   "metadata": {},
   "outputs": [
    {
     "name": "stdout",
     "output_type": "stream",
     "text": [
      "[[98 40]\n",
      " [82 66]]\n",
      "tn: 98, fp:40, fn:82, tp:66\n",
      "Accuracy: 0.5734265734265734\n",
      "Sensibility: 0.44594594594594594\n",
      "              precision    recall  f1-score   support\n",
      "\n",
      "           0       0.54      0.71      0.62       138\n",
      "           1       0.62      0.45      0.52       148\n",
      "\n",
      "    accuracy                           0.57       286\n",
      "   macro avg       0.58      0.58      0.57       286\n",
      "weighted avg       0.58      0.57      0.57       286\n",
      "\n"
     ]
    }
   ],
   "source": [
    "\n",
    "from sklearn.metrics import confusion_matrix\n",
    "from sklearn.metrics import accuracy_score\n",
    "from sklearn.metrics import classification_report\n",
    "from sklearn.metrics import recall_score\n",
    "\n",
    "#  Compute the confusion matrix\n",
    "cm = confusion_matrix(Y_test, y_pred)\n",
    "print(cm)\n",
    "tn = cm[0, 0]\n",
    "fn = cm[1, 0]\n",
    "tp = cm[1, 1]\n",
    "fp = cm[0, 1]\n",
    "\n",
    "print(f'tn: {tn}, fp:{fp}, fn:{fn}, tp:{tp}')\n",
    "\n",
    "# Compute the accuracy\n",
    "Accuracy = accuracy_score(Y_test, y_pred)\n",
    "print(f'Accuracy: {Accuracy}')\n",
    "\n",
    "\n",
    "#Sensibility/ sensitivity\n",
    "Sensibility = recall_score(Y_test, y_pred)\n",
    "print(f'Sensibility: {Sensibility}')\n",
    "\n",
    "print(classification_report(Y_test, y_pred))\n"
   ]
  },
  {
   "cell_type": "code",
   "execution_count": 109,
   "metadata": {},
   "outputs": [
    {
     "data": {
      "image/png": "[encoded data removed]",
      "text/plain": [
       "<Figure size 432x288 with 1 Axes>"
      ]
     },
     "metadata": {
      "needs_background": "light"
     },
     "output_type": "display_data"
    }
   ],
   "source": [
    "# Compute the AUC and the ROC\n",
    "from sklearn.metrics import auc, roc_curve\n",
    "fpr, tpr, thresholds = roc_curve(Y_test, y_pred)\n",
    "roc_auc = auc(fpr, tpr)\n",
    "specificity = 1 - fpr\n",
    "\n",
    "# Plot the ROC curve\n",
    "import matplotlib.pyplot as plt\n",
    "plt.title('Receiver Operating Characteristic')\n",
    "plt.plot(fpr, tpr, 'b', label = 'AUC = %0.2f' % roc_auc)\n",
    "plt.legend(loc = 'lower right')\n",
    "plt.plot([0, 1], [0, 1],'r--')\n",
    "plt.xlim([0, 1])\n",
    "plt.ylim([0, 1])\n",
    "plt.ylabel('True Positive Rate')\n",
    "plt.xlabel('False Positive Rate')\n",
    "plt.show()\n",
    "\n"
   ]
  },
  {
   "cell_type": "code",
   "execution_count": 110,
   "metadata": {},
   "outputs": [],
   "source": [
    "accuracies.append(Accuracy)\n",
    "sensitivities.append(Sensibility)\n",
    "specificties.append(specificity)\n",
    "aucs.append(roc_auc)\n"
   ]
  },
  {
   "cell_type": "markdown",
   "metadata": {},
   "source": [
    "## 3. Multivariable Logistic Regression \n",
    "\n"
   ]
  },
  {
   "cell_type": "code",
   "execution_count": 111,
   "metadata": {
    "scrolled": true
   },
   "outputs": [
    {
     "name": "stdout",
     "output_type": "stream",
     "text": [
      "[-0.00210435]\n",
      "[[ 0.2503402   0.48681552 -0.03767533 -0.03592535 -0.05193825  0.35867896\n",
      "   0.26070501  0.0559643 ]]\n",
      "[[102  36]\n",
      " [ 50  98]]\n",
      "tn: 102, fp:36, fn:50, tp:98\n",
      "Accuracy: 0.6993006993006993\n",
      "Sensibility: 0.6621621621621622\n",
      "              precision    recall  f1-score   support\n",
      "\n",
      "           0       0.67      0.74      0.70       138\n",
      "           1       0.73      0.66      0.70       148\n",
      "\n",
      "    accuracy                           0.70       286\n",
      "   macro avg       0.70      0.70      0.70       286\n",
      "weighted avg       0.70      0.70      0.70       286\n",
      "\n"
     ]
    },
    {
     "name": "stderr",
     "output_type": "stream",
     "text": [
      "/home/alumnos/tachennf/.local/lib/python3.10/site-packages/sklearn/utils/validation.py:1183: DataConversionWarning: A column-vector y was passed when a 1d array was expected. Please change the shape of y to (n_samples, ), for example using ravel().\n",
      "  y = column_or_1d(y, warn=True)\n"
     ]
    }
   ],
   "source": [
    "# Should you use your normalized data?\n",
    "\n",
    "# Logistic regression\n",
    "multi_regressor = LogisticRegression(multi_class='multinomial', solver='lbfgs')\n",
    "\n",
    "# Train the model using the training data\n",
    "multi_regressor.fit(X_train, Y_train)\n",
    "\n",
    "# Show the intercept\n",
    "print(multi_regressor.intercept_)\n",
    "\n",
    "# Show the coefficients\n",
    "print(multi_regressor.coef_)\n",
    "\n",
    "# Compute the predicted values for the test set\n",
    "y_pred = multi_regressor.predict(X_test)\n",
    "\n",
    "#  Compute the confusion matrix\n",
    "cm = confusion_matrix(Y_test, y_pred)\n",
    "print(cm)\n",
    "\n",
    "# Compute the rates\n",
    "tn = cm[0, 0]\n",
    "fn = cm[1, 0]\n",
    "tp = cm[1, 1]\n",
    "fp = cm[0, 1]\n",
    "print(f'tn: {tn}, fp:{fp}, fn:{fn}, tp:{tp}') # 120, 31, 30, 50, 0.735 (accu), 0.625 (sensi)\n",
    "\n",
    "# Compute the accuracy\n",
    "Accuracy = accuracy_score(Y_test, y_pred)\n",
    "print(f'Accuracy: {Accuracy}')\n",
    "\n",
    "\n",
    "#Sensibility/ sensitivity\n",
    "Sensibility = recall_score(Y_test, y_pred)\n",
    "print(f'Sensibility: {Sensibility}')\n",
    "\n",
    "print(classification_report(Y_test, y_pred))"
   ]
  },
  {
   "cell_type": "code",
   "execution_count": 112,
   "metadata": {},
   "outputs": [
    {
     "data": {
      "image/png": "[encoded data removed]",
      "text/plain": [
       "<Figure size 432x288 with 1 Axes>"
      ]
     },
     "metadata": {
      "needs_background": "light"
     },
     "output_type": "display_data"
    }
   ],
   "source": [
    "fpr, tpr, thresholds = roc_curve(Y_test, y_pred)\n",
    "roc_auc = auc(fpr, tpr)\n",
    "specificity = 1 - fpr\n",
    "\n",
    "# Plot the ROC curve\n",
    "import matplotlib.pyplot as plt\n",
    "plt.title('Receiver Operating Characteristic')\n",
    "plt.plot(fpr, tpr, 'b', label = 'AUC = %0.2f' % roc_auc)\n",
    "plt.legend(loc = 'lower right')\n",
    "plt.plot([0, 1], [0, 1],'r--')\n",
    "plt.xlim([0, 1])\n",
    "plt.ylim([0, 1])\n",
    "plt.ylabel('True Positive Rate')\n",
    "plt.xlabel('False Positive Rate')\n",
    "plt.show()"
   ]
  },
  {
   "cell_type": "code",
   "execution_count": 113,
   "metadata": {},
   "outputs": [],
   "source": [
    "accuracies.append(Accuracy)\n",
    "sensitivities.append(Sensibility)\n",
    "specificties.append(specificity)\n",
    "aucs.append(roc_auc)"
   ]
  },
  {
   "cell_type": "markdown",
   "metadata": {},
   "source": [
    "Important! You can explore what results are obtained when: (1) you normalize the variables; (2) you discard some features based on the value of their coefficients; (3) you use other approaches such as stats."
   ]
  },
  {
   "cell_type": "markdown",
   "metadata": {},
   "source": [
    "## 4. Logistic regression with regularization"
   ]
  },
  {
   "cell_type": "markdown",
   "metadata": {},
   "source": [
    "a) Indicate whether the performance obtained in the test set changes when Ridge or Lasso are considered.\n",
    "\n",
    "b) Justify which characteristics are more relevant for these models."
   ]
  },
  {
   "cell_type": "code",
   "execution_count": 114,
   "metadata": {},
   "outputs": [
    {
     "data": {
      "text/plain": [
       "array([0, 0, 1, 1, 0, 0, 1, 1, 0, 0, 1, 1, 0, 0, 0, 0, 1, 0, 1, 0, 1, 1,\n",
       "       1, 0, 0, 1, 1, 1, 0, 0, 1, 1, 0, 1, 1, 1, 0, 0, 1, 1, 0, 1, 0, 0,\n",
       "       1, 0, 1, 0, 1, 1, 1, 0, 0, 0, 1, 1, 1, 0, 1, 1, 0, 1, 1, 0, 0, 1,\n",
       "       0, 0, 1, 1, 0, 1, 0, 1, 1, 1, 1, 1, 1, 0, 1, 1, 0, 0, 0, 0, 0, 0,\n",
       "       0, 1, 1, 1, 0, 0, 1, 0, 0, 1, 1, 1, 0, 1, 0, 1, 0, 1, 0, 0, 0, 0,\n",
       "       0, 1, 0, 1, 0, 1, 0, 1, 1, 1, 1, 1, 1, 1, 0, 1, 1, 1, 0, 0, 1, 0,\n",
       "       0, 0, 1, 0, 1, 1, 0, 1, 0, 1, 0, 0, 1, 1, 1, 1, 0, 1, 0, 0, 1, 1,\n",
       "       1, 0, 0, 1, 1, 0, 0, 0, 0, 1, 0, 0, 0, 1, 1, 1, 0, 0, 0, 1, 0, 0,\n",
       "       1, 1, 1, 0, 1, 1, 0, 1, 0, 0, 1, 1, 0, 0, 0, 0, 1, 0, 1, 0, 1, 0,\n",
       "       0, 1, 1, 0, 0, 0, 0, 1, 0, 0, 0, 0, 1, 0, 0, 1, 0, 0, 1, 0, 1, 0,\n",
       "       1, 1, 1, 0, 0, 0, 1, 0, 0, 0, 1, 0, 1, 0, 0, 0, 0, 0, 0, 1, 1, 1,\n",
       "       1, 1, 1, 1, 1, 1, 0, 1, 1, 1, 1, 0, 0, 0, 1, 1, 0, 0, 0, 1, 1, 0,\n",
       "       1, 0, 1, 1, 1, 1, 0, 0, 0, 0, 0, 1, 1, 1, 1, 0, 0, 0, 1, 1, 0, 1,\n",
       "       1, 1, 1, 0, 1, 0, 0, 0, 0, 1, 1, 0, 1, 1, 0, 1, 0, 1, 1, 1, 1, 0,\n",
       "       1, 0, 0, 0, 1, 0, 1, 0, 1, 0, 0, 1, 1, 0, 1, 0, 0, 1, 0, 0, 0, 0,\n",
       "       1, 1, 0, 0, 0, 1, 0, 1, 1, 0, 1, 0, 1, 0, 1, 1, 1, 1, 0, 1, 1, 0,\n",
       "       0, 0, 0, 0, 1, 0, 1, 0, 0, 0, 1, 1, 0, 1, 1, 0, 1, 1, 0, 0, 0, 0,\n",
       "       1, 1, 0, 0, 1, 0, 0, 0, 0, 1, 1, 1, 1, 0, 1, 1, 1, 1, 1, 1, 0, 0,\n",
       "       0, 1, 0, 1, 0, 1, 1, 0, 0, 1, 0, 0, 1, 0, 1, 1, 0, 0, 0, 0, 0, 0,\n",
       "       0, 0, 0, 1, 1, 1, 1, 1, 0, 1, 1, 0, 1, 0, 1, 0, 1, 0, 1, 1, 1, 1,\n",
       "       1, 1, 1, 0, 1, 0, 0, 0, 0, 0, 0, 0, 0, 0, 0, 0, 0, 1, 0, 1, 1, 0,\n",
       "       1, 0, 0, 0, 1, 0, 0, 0, 1, 1, 0, 0, 0, 0, 0, 1, 0, 1, 1, 0, 1, 1,\n",
       "       1, 0, 1, 0, 0, 0, 1, 1, 0, 1, 0, 0, 0, 0, 1, 0, 1, 0, 0, 1, 0, 0,\n",
       "       1, 1, 1, 1, 1, 1, 0, 1, 1, 1, 1, 0, 0, 1, 0, 1, 1, 0, 1, 0, 0, 0,\n",
       "       0, 1, 0, 0, 1, 1, 0, 0, 1, 0, 0, 1, 1, 0, 0, 0, 0, 0, 0, 0, 1, 1,\n",
       "       0, 0, 1, 0, 1, 0, 1, 1, 0, 1, 1, 0, 1, 0, 1, 1, 0, 0, 1, 0, 0, 1,\n",
       "       1, 1, 0, 1, 0, 1, 0, 0, 0, 1, 0, 0, 1, 1, 1, 1, 0, 0, 0, 1, 0, 1,\n",
       "       0, 0, 1, 0, 1, 0, 0, 1, 1, 0, 1, 0, 1, 1, 0, 1, 0, 1, 1, 0, 0, 1,\n",
       "       1, 0, 0, 1, 0, 0, 0, 1, 1, 1, 0, 1, 0, 0, 1, 1, 1, 1, 1, 1, 0, 1,\n",
       "       0, 1, 1, 1, 0, 0, 1, 0, 1, 0, 1, 1, 0, 1, 0, 1, 1, 1, 1, 1, 0, 0,\n",
       "       1, 1, 0, 0, 1, 0])"
      ]
     },
     "execution_count": 114,
     "metadata": {},
     "output_type": "execute_result"
    }
   ],
   "source": [
    "Y_train.values.reshape(-1)"
   ]
  },
  {
   "cell_type": "code",
   "execution_count": 115,
   "metadata": {},
   "outputs": [
    {
     "name": "stdout",
     "output_type": "stream",
     "text": [
      "{'C': 0.10110909090909091, 'penalty': 'l2'}\n",
      "0.7342722477836382\n"
     ]
    }
   ],
   "source": [
    "# Logistic regression\n",
    "from sklearn.model_selection import GridSearchCV\n",
    "\n",
    "# C values and penalty\n",
    "parameters = {\"C\":np.linspace(1e-4,10,100), \"penalty\":[\"l1\",\"l2\"]}# l1 lasso l2 ridge\n",
    "\n",
    "# Logistic regression model\n",
    "model = LogisticRegression(solver='liblinear')\n",
    "\n",
    "# Grid search\n",
    "clf = GridSearchCV(model, parameters)\n",
    "\n",
    "# Train using X_train\n",
    "clf.fit(X_train, Y_train.values.reshape(-1))\n",
    "\n",
    "\n",
    "# We show the best value of the parameter and the score\n",
    "print(clf.best_params_)\n",
    "print(clf.best_score_)\n",
    "\n",
    "\n",
    "# The predicted output is obtained\n",
    "y_pred = clf.predict(X_test)\n",
    "\n"
   ]
  },
  {
   "cell_type": "markdown",
   "metadata": {},
   "source": [
    "### Cristina results \n",
    "{'C': 0.3031272727272727, 'penalty': 'l1'}\n",
    "0.7801661474558671"
   ]
  },
  {
   "cell_type": "code",
   "execution_count": 116,
   "metadata": {
    "scrolled": true
   },
   "outputs": [
    {
     "name": "stdout",
     "output_type": "stream",
     "text": [
      "[[100  38]\n",
      " [ 50  98]]\n",
      "tn: 100, fp:38, fn:50, tp:98\n",
      "Accuracy: 0.6923076923076923\n",
      "Sensibility: 0.6621621621621622\n",
      "              precision    recall  f1-score   support\n",
      "\n",
      "           0       0.67      0.72      0.69       138\n",
      "           1       0.72      0.66      0.69       148\n",
      "\n",
      "    accuracy                           0.69       286\n",
      "   macro avg       0.69      0.69      0.69       286\n",
      "weighted avg       0.69      0.69      0.69       286\n",
      "\n"
     ]
    }
   ],
   "source": [
    "#  Compute the confusion matrix\n",
    "cm = confusion_matrix(Y_test, y_pred)\n",
    "print(cm)\n",
    "\n",
    "# Compute the rates\n",
    "tn = cm[0, 0]\n",
    "fn = cm[1, 0]\n",
    "tp = cm[1, 1]\n",
    "fp = cm[0, 1]\n",
    "print(f'tn: {tn}, fp:{fp}, fn:{fn}, tp:{tp}') # 120, 31, 30, 50, 0.735 (accu), 0.625 (sensi)\n",
    "\n",
    "# Compute the accuracy\n",
    "Accuracy = accuracy_score(Y_test, y_pred)\n",
    "print(f'Accuracy: {Accuracy}')\n",
    "\n",
    "\n",
    "#Sensibility/ sensitivity\n",
    "Sensibility = recall_score(Y_test, y_pred)\n",
    "print(f'Sensibility: {Sensibility}')\n",
    "\n",
    "print(classification_report(Y_test, y_pred))"
   ]
  },
  {
   "cell_type": "markdown",
   "metadata": {},
   "source": [
    "### Cristina results\n",
    "\n",
    "tn: 100, fp:38, fn:50, tp:98\n",
    "Accuracy: 0.6923076923076923\n",
    "Sensibility: 0.6621621621621622"
   ]
  },
  {
   "cell_type": "code",
   "execution_count": 117,
   "metadata": {},
   "outputs": [
    {
     "data": {
      "image/png": "[encoded data removed]",
      "text/plain": [
       "<Figure size 432x288 with 1 Axes>"
      ]
     },
     "metadata": {
      "needs_background": "light"
     },
     "output_type": "display_data"
    }
   ],
   "source": [
    "fpr, tpr, thresholds = roc_curve(Y_test, y_pred)\n",
    "roc_auc = auc(fpr, tpr)\n",
    "specificity = 1 - fpr\n",
    "\n",
    "\n",
    "# Plot the ROC curve\n",
    "import matplotlib.pyplot as plt\n",
    "plt.title('Receiver Operating Characteristic')\n",
    "plt.plot(fpr, tpr, 'b', label = 'AUC = %0.2f' % roc_auc)\n",
    "plt.legend(loc = 'lower right')\n",
    "plt.plot([0, 1], [0, 1],'r--')\n",
    "plt.xlim([0, 1])\n",
    "plt.ylim([0, 1])\n",
    "plt.ylabel('True Positive Rate')\n",
    "plt.xlabel('False Positive Rate')\n",
    "plt.show()"
   ]
  },
  {
   "cell_type": "code",
   "execution_count": 118,
   "metadata": {},
   "outputs": [],
   "source": [
    "accuracies.append(Accuracy)\n",
    "sensitivities.append(Sensibility)\n",
    "specificties.append(specificity)\n",
    "aucs.append(roc_auc)"
   ]
  },
  {
   "cell_type": "markdown",
   "metadata": {},
   "source": [
    "## 5. Comparison of the results obtained with the different models\n"
   ]
  },
  {
   "cell_type": "markdown",
   "metadata": {},
   "source": [
    "Include in a table the performances of the test set obtained according to different figures of merit:\n",
    "\n",
    "In view of the results obtained, answer, if possible, the following questions:\n",
    "\n",
    "(a) Justify with which scheme of those analyzed you obtain better performances in the test set.\n",
    "\n",
    "b) Justify the influence of the regularization parameter on the results obtained.\n",
    "\n",
    "c) Justify reasonably if the fact of making a single partition of the cases in the training and test sets can influence the results obtained.\n",
    "\n",
    "d) Starting from the original data, perform a new partition of the cases in the training and test sets. Select one of the classifiers analyzed (indicate the classifier chosen) and obtain again the confusion matrix and the evaluation measures. Comment on the results obtained.\n"
   ]
  },
  {
   "cell_type": "code",
   "execution_count": 120,
   "metadata": {},
   "outputs": [
    {
     "data": {
      "image/png": "[encoded data removed]",
      "text/plain": [
       "<Figure size 720x360 with 1 Axes>"
      ]
     },
     "metadata": {
      "needs_background": "light"
     },
     "output_type": "display_data"
    },
    {
     "data": {
      "image/png": "[encoded data removed]",
      "text/plain": [
       "<Figure size 720x360 with 1 Axes>"
      ]
     },
     "metadata": {
      "needs_background": "light"
     },
     "output_type": "display_data"
    },
    {
     "data": {
      "image/png": "[encoded data removed]",
      "text/plain": [
       "<Figure size 720x360 with 1 Axes>"
      ]
     },
     "metadata": {
      "needs_background": "light"
     },
     "output_type": "display_data"
    }
   ],
   "source": [
    "model_names = [\"Log Reg\", \"Multi Log Reg\", \"Penalty Multy Log Reg\"]  # Replace with your actual model names\n",
    "\n",
    "# Create a bar plot for accuracy scores\n",
    "plt.figure(figsize=(10, 5))\n",
    "sns.barplot(x=model_names, y=accuracies)\n",
    "plt.title(\"Accuracy Comparison\")\n",
    "plt.ylabel(\"Accuracy\")\n",
    "plt.show()\n",
    "\n",
    "# Create a bar plot for sensitivity scores\n",
    "plt.figure(figsize=(10, 5))\n",
    "sns.barplot(x=model_names, y=sensitivities)\n",
    "plt.title(\"Sensitivity Comparison\")\n",
    "plt.ylabel(\"Sensitivity\")\n",
    "plt.show()\n",
    "\n",
    "# Create a bar plot for AUC scores\n",
    "plt.figure(figsize=(10, 5))\n",
    "sns.barplot(x=model_names, y=aucs)\n",
    "plt.title(\"AUC Comparison\")\n",
    "plt.ylabel(\"AUC\")\n",
    "plt.show()"
   ]
  }
 ],
 "metadata": {
  "kernelspec": {
   "display_name": "Python 3 (ipykernel)",
   "language": "python",
   "name": "python3"
  },
  "language_info": {
   "codemirror_mode": {
    "name": "ipython",
    "version": 3
   },
   "file_extension": ".py",
   "mimetype": "text/x-python",
   "name": "python",
   "nbconvert_exporter": "python",
   "pygments_lexer": "ipython3",
   "version": "3.10.12"
  }
 },
 "nbformat": 4,
 "nbformat_minor": 2
}
